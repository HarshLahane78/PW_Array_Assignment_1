{
 "cells": [
  {
   "cell_type": "code",
   "execution_count": 4,
   "id": "4fbbf30c-be33-41a4-8c4a-d50ccef73f69",
   "metadata": {},
   "outputs": [
    {
     "name": "stdout",
     "output_type": "stream",
     "text": [
      "True\n"
     ]
    }
   ],
   "source": [
    "def contain_duplicates(arr):\n",
    "    \n",
    "    seen = set()\n",
    "    \n",
    "    for num in arr:\n",
    "        if num  in seen:\n",
    "            return True\n",
    "        \n",
    "        seen.add(num)\n",
    "    return False\n",
    "\n",
    "arr = [1, 2, 4, 2, 5, 9]\n",
    "output = contain_duplicates(arr)\n",
    "print(output)"
   ]
  },
  {
   "cell_type": "code",
   "execution_count": 5,
   "id": "ba3d1a46-b114-4541-b23f-4090a04b1c0d",
   "metadata": {},
   "outputs": [
    {
     "name": "stdout",
     "output_type": "stream",
     "text": [
      "[5, 6, 7, 1, 2, 3, 4]\n"
     ]
    }
   ],
   "source": [
    "def rotate_array(arr,k):\n",
    "    \n",
    "    n = len(arr)\n",
    "    k %= n\n",
    "    return arr[-k:] + arr[:-k]\n",
    "\n",
    "arr = [1, 2, 3, 4, 5, 6, 7] \n",
    "k = 3\n",
    "\n",
    "r_array = rotate_array(arr,k)\n",
    "print(r_array)\n",
    "\n"
   ]
  },
  {
   "cell_type": "code",
   "execution_count": 7,
   "id": "c0c18703-a134-4733-994b-20dd56beb367",
   "metadata": {},
   "outputs": [
    {
     "name": "stdout",
     "output_type": "stream",
     "text": [
      "[12, 9, 7, 5, 4, 2]\n"
     ]
    }
   ],
   "source": [
    "def reverse_array_in_place(arr):\n",
    "    \n",
    "    left = 0\n",
    "    right = len(arr) - 1\n",
    "    \n",
    "    while left < right :\n",
    "        \n",
    "        arr[left] , arr[right] = arr[right] , arr[left]\n",
    "        \n",
    "        left += 1\n",
    "        right -= 1\n",
    "        \n",
    "arr = [2, 4, 5, 7, 9, 12]\n",
    "reverse_array_in_place(arr)\n",
    "print(arr)\n",
    "        "
   ]
  },
  {
   "cell_type": "code",
   "execution_count": 10,
   "id": "10140aed-5306-465c-9bd9-a5227af002a8",
   "metadata": {},
   "outputs": [
    {
     "name": "stdout",
     "output_type": "stream",
     "text": [
      "20\n"
     ]
    }
   ],
   "source": [
    "import sys\n",
    "def find_max_element(arr):\n",
    "    \n",
    "    ans = -sys.maxsize - 1\n",
    "    for i in arr :\n",
    "        \n",
    "        if ans < i:\n",
    "            ans = i\n",
    "        \n",
    "    return ans\n",
    "\n",
    "arr = [10, 5, 20, 8, 15]\n",
    "output = find_max_element(arr)\n",
    "print(output)\n",
    "        "
   ]
  },
  {
   "cell_type": "code",
   "execution_count": 12,
   "id": "fc0a4ee7-8064-422c-a252-d692cc16ce27",
   "metadata": {},
   "outputs": [
    {
     "name": "stdout",
     "output_type": "stream",
     "text": [
      "[1, 2, 3, 4, 5]\n"
     ]
    }
   ],
   "source": [
    "def remove_duplicates(arr):\n",
    "    \n",
    "    if len(arr) == 0:\n",
    "        return []\n",
    "    \n",
    "    unique_arr = [arr[0]]\n",
    "    \n",
    "    for i in range( 1 , len(arr)):\n",
    "        \n",
    "        if arr[i] != arr[i-1]:\n",
    "            unique_arr.append(arr[i])\n",
    "            \n",
    "    return unique_arr\n",
    "\n",
    "arr = [1, 1, 2, 2, 2, 3, 3, 4, 4, 4, 5, 5]\n",
    "output = remove_duplicates(arr)\n",
    "print(output)"
   ]
  },
  {
   "cell_type": "code",
   "execution_count": null,
   "id": "d826bab9-4904-47f7-97cf-1afb01118298",
   "metadata": {},
   "outputs": [],
   "source": []
  }
 ],
 "metadata": {
  "kernelspec": {
   "display_name": "Python 3 (ipykernel)",
   "language": "python",
   "name": "python3"
  },
  "language_info": {
   "codemirror_mode": {
    "name": "ipython",
    "version": 3
   },
   "file_extension": ".py",
   "mimetype": "text/x-python",
   "name": "python",
   "nbconvert_exporter": "python",
   "pygments_lexer": "ipython3",
   "version": "3.10.8"
  }
 },
 "nbformat": 4,
 "nbformat_minor": 5
}
